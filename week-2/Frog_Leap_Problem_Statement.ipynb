{
 "cells": [
  {
   "cell_type": "markdown",
   "metadata": {
    "id": "fxZte1ZuP3yr"
   },
   "source": [
    "# Problem statement\n",
    "\n",
    "Create famous 'Frog leap' puzzle game. Try completing the game before starting to get an idea about its working.\n",
    "[Demonstration](https://www.neok12.com/games/leap-froggies/leap-froggies.htm).\n",
    "\n",
    "\n",
    "### Rules ###\n",
    "1. The left set of frogs can only move right, the right set of frogs can only move left.\n",
    "2. Frogs can move forward one space, or move two spaces by jumping over another frog from opposite side.\n",
    "3. The puzzle is solved when the two sets of frogs have switched positions.\n",
    "\n",
    "\n",
    "## Steps to solve the problem:\n",
    "### Step1:-\n",
    "- Display green and brown frogs on the left and right sides initially.\n",
    "\n",
    "Initial Display :-  \n",
    "```\n",
    "[ 0 ,  1 ,  2 ,  3 ,  4 ,  5 ,  6 ]\n",
    "['G', 'G', 'G', '-', 'B', 'B', 'B']\n",
    "```\n",
    "<br>\n",
    "Here 'G' represents Green frogs on the left side and 'B' represents brown frogs on the right side. The '-' defines the position of empty leaf.\n",
    "(You can change display according to your imagination or convinience)\n",
    "\n",
    "### Step2:-\n",
    "Accept positions of the frog that you want to move.<br>\n",
    "Example: If we enter position 2 then the game will look like this:-\n",
    "```\n",
    "[ 0 ,  1 ,  2 ,  3 ,  4 ,  5 ,  6 ]\n",
    "['G', 'G', '-', 'G', 'B', 'B', 'B']\n",
    "```\n",
    "\n",
    "### Step3:- ###\n",
    "Define Invalid moves and add conditional 'if' statements accordingly\n",
    "#### Rules\n",
    "1. Entered position should be between 0 to 6. Or a character 'q' to quit the game.\n",
    "2. Entered position cannot be the position of empty leaf.\n",
    "3. If the selected frog position cannot perform the contraints given in rule 2 then the move is invalid.\n",
    "\n",
    "### Step4:-\n",
    "Make the appropriate move by changing the game display."
   ]
  },
  {
   "cell_type": "markdown",
   "metadata": {
    "id": "-viYJbAFQXcJ"
   },
   "source": [
    "## Step 1\n",
    "First create a list `positions` which contains the characters 'G','B' and '-' in the same sequence as given in the initial display state."
   ]
  },
  {
   "cell_type": "code",
   "execution_count": 5,
   "metadata": {
    "id": "fSvLBrjwP0sr"
   },
   "outputs": [],
   "source": [
    "### Search the python Src Unicode version of Frog.\n",
    "a=u\"\\U0001F438\"\n",
    "a1=u\"\\U0001F422\"\n",
    "b='-'\n",
    "### Make a list using the frog emoji and a blank[Acc to our Game Theme] \n",
    "l=[a1,a1,a1,b,a,a,a]\n",
    "\n"
   ]
  },
  {
   "cell_type": "markdown",
   "metadata": {
    "id": "unr1AJLSQj_4"
   },
   "source": [
    "Now print this string ```[ 0 ,  1 ,  2 ,  3 ,  4 ,  5 ,  6 ]``` and after that print the list `positions`"
   ]
  },
  {
   "cell_type": "code",
   "execution_count": 6,
   "metadata": {
    "id": "qqKLcfEmQgiZ"
   },
   "outputs": [
    {
     "name": "stdout",
     "output_type": "stream",
     "text": [
      "['🐢', '🐢', '🐢', '-', '🐸', '🐸', '🐸']\n"
     ]
    }
   ],
   "source": [
    "### print the list\n",
    "print(l)"
   ]
  },
  {
   "cell_type": "markdown",
   "metadata": {
    "id": "DuEVsgtjQqXV"
   },
   "source": [
    "Take position input from user and write a message as `\"Press q to quit else \\nEnter position of piece:\"`."
   ]
  },
  {
   "cell_type": "code",
   "execution_count": 7,
   "metadata": {
    "id": "nPz65EKXQnDR"
   },
   "outputs": [
    {
     "name": "stdout",
     "output_type": "stream",
     "text": [
      "Press q to quit else\n",
      " Enter position of piece:2\n"
     ]
    }
   ],
   "source": [
    "### To quit or enter the position of piece.\n",
    "n=input(\"Press q to quit else\\n Enter position of piece:\")"
   ]
  },
  {
   "cell_type": "markdown",
   "metadata": {
    "id": "ejy_x_eTRJmT"
   },
   "source": [
    "Now the taken input is in string format. So first check if the input is `'q'` character. If input is `'q'` then the person is quiting the game so print `'You Lose'`."
   ]
  },
  {
   "cell_type": "code",
   "execution_count": 8,
   "metadata": {
    "id": "1OrsC7P9QxO6"
   },
   "outputs": [],
   "source": [
    "### If input is q then the person lost the game and play from the start.\n",
    "if n=='q':\n",
    "    print(\"you lose\")"
   ]
  },
  {
   "cell_type": "markdown",
   "metadata": {
    "id": "yZJeDTGlRSMe"
   },
   "source": [
    "Next if input character is not `'q'` then it has to be some integer. so convert input to integer format."
   ]
  },
  {
   "cell_type": "code",
   "execution_count": 9,
   "metadata": {
    "id": "PWZj_Js6RP2G"
   },
   "outputs": [
    {
     "name": "stdout",
     "output_type": "stream",
     "text": [
      "2\n"
     ]
    }
   ],
   "source": [
    "### If input is not 'q' then convert the string into Integer.\n",
    "if n!='q':\n",
    "    n=int(n)\n",
    "    print(n)"
   ]
  },
  {
   "cell_type": "markdown",
   "metadata": {
    "id": "SyCzN-cYRXZa"
   },
   "source": [
    "## Step 2\n",
    "Now we have to check validity of the selected positions or move.<br>\n",
    "If the entered number isn't between 0 and 6, then print 'Invalid move'."
   ]
  },
  {
   "cell_type": "code",
   "execution_count": 10,
   "metadata": {
    "id": "8_edLqe2RU8S"
   },
   "outputs": [],
   "source": [
    "### If input is not in between \"0 to 6\" it is invalid.\n",
    "if n<0 and n>6:\n",
    "    print(\"Invalid Move\")\n",
    "    "
   ]
  },
  {
   "cell_type": "markdown",
   "metadata": {
    "id": "Va03g0l5Rlkx"
   },
   "source": [
    "A frog should be present on the selected position to make a move. If leaf is selected then it doesn't make sense. Therefore, if entered postition is same as the postition of empty leaf then the move is invalid and print `Invalid Move`"
   ]
  },
  {
   "cell_type": "code",
   "execution_count": 11,
   "metadata": {
    "id": "uM2-D1xGRiH4"
   },
   "outputs": [],
   "source": [
    "### If selected position is blank it is invalid.\n",
    "if l[n]=='-':\n",
    "    print(\"Invalid Move\")\n",
    "    "
   ]
  },
  {
   "cell_type": "markdown",
   "metadata": {
    "id": "cp5q2ahQTnwI"
   },
   "source": [
    "Initialize a variable named `pos2` at value 0, to store the index of empty leaf, so that we can use it later."
   ]
  },
  {
   "cell_type": "code",
   "execution_count": 12,
   "metadata": {
    "id": "1SkBYDnaTpiV"
   },
   "outputs": [],
   "source": [
    "### initializing \"pos2\" to \"zero\"\n",
    "pos2=0\n",
    "        "
   ]
  },
  {
   "cell_type": "markdown",
   "metadata": {
    "id": "V9UFD623R3Oa"
   },
   "source": [
    "```   \n",
    "    Check if the selected frog is 'G':\n",
    "  \n",
    "        (Inside if when it's 'G'. As 'G' is selected frog can move to right only.)\n",
    "        \n",
    "        ❗condition 1\n",
    "\n",
    "        If **selected_position + 1** is less than or equal to 6 and **curent_position + 1** contains '-'\n",
    "        then it's a valid move and store that postion in `pos2`.\n",
    "        \n",
    "        ❗condition2\n",
    "\n",
    "        Else if **selected_position + 2** is less than or equal to 6 and if **current_position + 2**\n",
    "        contains '-' and if **selected_position + 1** contains 'B' then it's a valid move  and store that postion in `pos2`.\n",
    "        \n",
    "        ❗condition3:\n",
    "\n",
    "        Else remainig all are invalid, so print `Invalid Move`\n",
    "      \n",
    "```"
   ]
  },
  {
   "cell_type": "code",
   "execution_count": 13,
   "metadata": {
    "id": "IDHxpibURriq"
   },
   "outputs": [],
   "source": [
    "###\n",
    "if l[n]==a1:\n",
    "    if n+1<=6 and l[n+1]=='-':\n",
    "        pos2=n+1\n",
    "    elif n+2<=6 and l[n+2]=='-' and l[n+1]==a1:\n",
    "        pos2=n+2\n",
    "    else:\n",
    "        print(\"Invalid Move\")\n",
    "        \n"
   ]
  },
  {
   "cell_type": "markdown",
   "metadata": {
    "id": "DyQX5nUsTZPF"
   },
   "source": [
    "```\n",
    "    Check if the selected frog is 'B':\n",
    "    \n",
    "        (Inside if when it's 'B'. As 'B' is selected frog can move to left only.)\n",
    "        \n",
    "        ❗condition1:\n",
    "\n",
    "        If **selected_position - 1** is more than or equal to 0 and **curent_position - 1** contains '-' then\n",
    "        it's a valid move and and store that postion in `pos2`.\n",
    "        \n",
    "        ❗condition2:\n",
    "\n",
    "        Else if **selected_position - 2** is more than or equal to 0 and if **current_position - 2** contains '-'\n",
    "        and if **selected_position - 1** contains 'G' then it's a valid move and and store that postion in `pos2`.\n",
    "\n",
    "        ❗condition3:\n",
    "        \n",
    "        Else remainig all are invalid,, so print `Invalid Move`.\n",
    "        \n",
    "```"
   ]
  },
  {
   "cell_type": "code",
   "execution_count": 14,
   "metadata": {
    "id": "cQ2G3ZO_TWU5"
   },
   "outputs": [],
   "source": [
    "### your code here\n",
    "if l[n]==a:\n",
    "    if n1>=0 and l[n-1]=='-':\n",
    "        pos2=n-1\n",
    "    elif n-2>=0 and l[n-2]=='-' and l[n-1]==a1:\n",
    "        pos2=n-2\n",
    "    else:\n",
    "        print(\"Invalid Move\")"
   ]
  },
  {
   "cell_type": "markdown",
   "metadata": {
    "id": "Vads2oztUd4g"
   },
   "source": [
    "Swap the element at selected positions and calculated position2 in the list.<br> So basically we are moving the frog to next valid position by swapping elelments of array."
   ]
  },
  {
   "cell_type": "code",
   "execution_count": 15,
   "metadata": {
    "id": "jXOGtww7UeYQ"
   },
   "outputs": [],
   "source": [
    "### your code here\n",
    "t=l[pos2]\n",
    "l[pos2]=l[n]\n",
    "l[n]=t"
   ]
  },
  {
   "cell_type": "markdown",
   "metadata": {
    "id": "8qF4Q2HsUlZ4"
   },
   "source": [
    "Now print the display of the game again to see the change.<br>\n",
    "If we enter position 2 then the output will look like this:-\n",
    "```\n",
    "[ 0 ,  1 ,  2 ,  3 ,  4 ,  5 ,  6 ]\n",
    "['G', 'G', '-', 'G', 'B', 'B', 'B']\n",
    "```"
   ]
  },
  {
   "cell_type": "code",
   "execution_count": 16,
   "metadata": {
    "id": "0S3oNzG3UifK"
   },
   "outputs": [
    {
     "name": "stdout",
     "output_type": "stream",
     "text": [
      "['🐢', '🐢', '-', '🐢', '🐸', '🐸', '🐸']\n"
     ]
    }
   ],
   "source": [
    "### your code here\n",
    "print(l)"
   ]
  },
  {
   "cell_type": "markdown",
   "metadata": {
    "id": "EILVGu48UsH-"
   },
   "source": [
    "Check for winning condition by comparing the elements of list. If player has won the game print `'You Win'`"
   ]
  },
  {
   "cell_type": "code",
   "execution_count": 17,
   "metadata": {
    "id": "GYkZdiA6Uote"
   },
   "outputs": [],
   "source": [
    "### your code here\n",
    "if l.reverse()==l:\n",
    "    print(\"You Win\")\n",
    "    "
   ]
  },
  {
   "cell_type": "markdown",
   "metadata": {
    "id": "a2a0HHjiUyQ8"
   },
   "source": [
    "Now the game should keep running until the player quits, so place all conditional statements inside an infinite loop.<br>\n",
    "\n",
    "1. We have to `'break'` the loop if the player presses `'q'` and quits.\n",
    "\n",
    "2. If the move made by player is `'Invalid Move'` then we have to `'continue'` without executing remaining part of the selected iteration.\n",
    "\n",
    "3. If player wins the game we have to `break` the loop.\n",
    "\n",
    "\n",
    "```\n",
    "Infinite loop:\n",
    "    (inside loop)\n",
    "    1.Take input\n",
    "    2.Check all valid and invalid conditions of `pos`.\n",
    "    3.Make the appropriate move by calculating `pos2`.\n",
    "    4.Display game\n",
    "    4.Check winning condition\n",
    "```"
   ]
  },
  {
   "cell_type": "code",
   "execution_count": 9,
   "metadata": {},
   "outputs": [],
   "source": [
    "import tkinter\n"
   ]
  },
  {
   "cell_type": "code",
   "execution_count": 8,
   "metadata": {
    "id": "BjpQuMCeUvrU"
   },
   "outputs": [
    {
     "name": "stdout",
     "output_type": "stream",
     "text": [
      "Press q to quit else\n",
      " Enter position of piece:2\n",
      "2\n",
      "🐢   🐢   -   🐢   🐸   🐸   🐸   \n",
      "\n",
      "Press q to quit else\n",
      " Enter position of piece:q\n",
      "you lose\n",
      "\n"
     ]
    }
   ],
   "source": [
    "\n",
    "### make a temperory list\n",
    "\n",
    "temp_list=[]\n",
    "### give the unicode of frog to green frog\n",
    "\n",
    "green_frog=u\"\\U0001F438\"\n",
    "### we have one frog available in unicode so, let's take a turtle \n",
    "turtle_frog=u\"\\U0001F422\"\n",
    "### initialize a variable with blank\n",
    "\n",
    "blank=' '\n",
    "### Make a list using the frog emoji and a blank[Acc to our Game Theme] \n",
    "\n",
    "game=[turtle_frog,turtle_frog,turtle_frog,blank,green_frog,green_frog,green_frog]\n",
    "### write an infinite loop\n",
    "while(1):\n",
    "    pos=input(\"Press q to quit else\\n Enter position of piece:\")\n",
    "    if pos=='q':\n",
    "        print(\"you lose\\n\")\n",
    "        break\n",
    "### check if the entered input is number or 'q'\n",
    "    \n",
    "    if pos!='q':\n",
    "        pos=int(pos)\n",
    "    pos2=0    \n",
    "### check if the position is valid or not\n",
    "    \n",
    "    if pos<0 and pos>6:\n",
    "        print(\"Invalid Move\")\n",
    "        continue\n",
    "    if game[pos]=='-':\n",
    "        print(\"Invalid Move\")\n",
    "        continue\n",
    "###  check if the entered podsition have turtle and perform the conditions given   \n",
    "    if game[pos]==turtle_frog:\n",
    "        if pos+1<=6 and game[pos+1]=='-':\n",
    "            pos2=pos+1\n",
    "        elif pos+2<=6 and game[pos+2]=='-' and game[pos+1]==green_frog:\n",
    "            pos2=pos+2\n",
    "        else:\n",
    "            print(\"Invalid Move\")\n",
    "            continue\n",
    "### check if the entered position have frog and perform the conditions given\n",
    "    elif game[pos]==green_frog:\n",
    "        if pos-1>=0 and game[pos-1]=='-':\n",
    "            pos2=pos-1\n",
    "        elif pos-2>=0 and game[pos-2]=='-' and game[pos-1]==turtle_frog:\n",
    "            pos2=pos-2\n",
    "        else:\n",
    "            print(\"Invalid Move\")\n",
    "            continue\n",
    "### swap the frog with the blank            \n",
    "    temp=game[pos2]\n",
    "    game[pos2]=game[pos]\n",
    "    game[pos]=temp  \n",
    "### for every cicle print the output game    \n",
    "    for i in game:\n",
    "        print(i,end=\"   \")\n",
    "### the above result list is stored in temperory list\n",
    "\n",
    "    temp_list=game[::-1]\n",
    "    print(\"\\n\")\n",
    "### check if the lists are equal or not    \n",
    "    if temp_list==game:\n",
    "        print(\"You Win\")\n",
    "        break"
   ]
  },
  {
   "cell_type": "code",
   "execution_count": null,
   "metadata": {},
   "outputs": [],
   "source": [
    "\n",
    "# Import module \n",
    "from tkinter import *\n",
    "from tkinter import messagebox\n",
    "# Create object \n",
    "root = Tk() \n",
    "pos2=0\n",
    "# Adjust size \n",
    "root.geometry(\"800x1200\") \n",
    "root.title(\"Frog Leap Game\")\n",
    "root.configure(bg=\"light blue\")\n",
    "root.iconbitmap(r\"C:\\Users\\sindu\\Downloads\\icon.ico\")\n",
    "def button_code(b):\n",
    "    if b[text]==\"🐸\":\n",
    "        \n",
    "\n",
    "\n",
    "\n",
    "\n",
    "b1=Button(root,text=\"🐸\",command=lambda:button_code(b1))\n",
    "b2=Button(root,text=\"🐸\",command=lambda:button_code(b2))\n",
    "b3=Button(root,text=\"🐸\",command=lambda:button_code(b3))\n",
    "b4=Button(root,text=\"   \",command=lambda:button_code(b4))\n",
    "b5=Button(root,text=\"🐢\",command=lambda:button_code(b5))\n",
    "b6=Button(root,text=\"🐢\",command=lambda:button_code(b6))\n",
    "b7=Button(root,text=\"🐢\",command=lambda:button_code(b7))\n",
    "\n",
    "# grid the button\n",
    "\n",
    "b1.place(x=250,y=250)\n",
    "b2.place(x=300,y=250)\n",
    "b3.place(x=350,y=250)\n",
    "b4.place(x=400,y=250)\n",
    "b5.place(x=450,y=250)\n",
    "b6.place(x=500,y=250)\n",
    "b7.place(x=550,y=250)\n",
    "\n",
    "\n",
    "\n",
    "# Execute tkinter \n",
    "root.mainloop() \n"
   ]
  }
 ],
 "metadata": {
  "colab": {
   "provenance": []
  },
  "kernelspec": {
   "display_name": "Python 3 (ipykernel)",
   "language": "python",
   "name": "python3"
  },
  "language_info": {
   "codemirror_mode": {
    "name": "ipython",
    "version": 3
   },
   "file_extension": ".py",
   "mimetype": "text/x-python",
   "name": "python",
   "nbconvert_exporter": "python",
   "pygments_lexer": "ipython3",
   "version": "3.9.13"
  }
 },
 "nbformat": 4,
 "nbformat_minor": 1
}
